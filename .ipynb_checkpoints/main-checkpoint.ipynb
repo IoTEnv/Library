{
 "cells": [
  {
   "cell_type": "code",
   "execution_count": 30,
   "metadata": {
    "collapsed": false,
    "scrolled": true
   },
   "outputs": [
    {
     "name": "stdout",
     "output_type": "stream",
     "text": [
      "mqtt client initialized\n",
      "scanThings CALLED\n",
      "scanThings CALLED\n",
      "scanThings ENDED\n",
      "### test thing list\n",
      "payload is  <class 'str'>\n",
      "sendRequest BEGIN\n",
      "cmu/gcf-framework\n",
      "{ name: just a Phone, uuidGoPhone-1}\n",
      "{\"destination\": [\"GoPhone-1\"], \"messageType\": \"I\", \"command\": \"IDENTIFY\", \"payload\": [\"PARAMETERS={}\"], \"version\": 1, \"deviceID\": \"IOT Scripting\", \"contextType\": \"IOT\"}\n",
      "scanThings ENDED\n",
      "sendRequest END\n",
      "### test find all\n",
      "payload is  <class 'str'>\n",
      "sendRequest BEGIN\n",
      "cmu/gcf-framework\n",
      "{ name: just a Phone, uuidGoPhone-1}\n",
      "{\"destination\": [\"GoPhone-1\"], \"messageType\": \"I\", \"command\": \"IDENTIFY\", \"payload\": [\"PARAMETERS={}\"], \"version\": 1, \"deviceID\": \"IOT Scripting\", \"contextType\": \"IOT\"}\n",
      "sendRequest END\n",
      "### test find phone\n",
      "payload is  <class 'str'>\n",
      "sendRequest BEGIN\n",
      "cmu/gcf-framework\n",
      "{ name: just a Phone, uuidGoPhone-1}\n",
      "{\"destination\": [\"GoPhone-1\"], \"messageType\": \"I\", \"command\": \"IDENTIFY\", \"payload\": [\"PARAMETERS={}\"], \"version\": 1, \"deviceID\": \"IOT Scripting\", \"contextType\": \"IOT\"}\n",
      "sendRequest END\n",
      "scanThings CALLED\n",
      "scanThings ENDED\n",
      "scanThings CALLED\n",
      "scanThings ENDED\n",
      "scanThings CALLED\n",
      "scanThings ENDED\n",
      "scanThings CALLED\n",
      "scanThings ENDED\n"
     ]
    }
   ],
   "source": [
    "%run main.py"
   ]
  },
  {
   "cell_type": "code",
   "execution_count": 23,
   "metadata": {
    "collapsed": false,
    "scrolled": true
   },
   "outputs": [
    {
     "name": "stdout",
     "output_type": "stream",
     "text": [
      "scanThings CALLED\n",
      "scanThings ENDED\n",
      "scanThings CALLED\n",
      "scanThings ENDED\n",
      "scanThings CALLED\n",
      "scanThings ENDED\n",
      "scanThings CALLED\n",
      "scanThings ENDED\n",
      "scanThings CALLED\n",
      "scanThings ENDED\n",
      "scanThings CALLED\n",
      "scanThings ENDED\n"
     ]
    }
   ],
   "source": [
    "Please.find(All, \"light\").light()"
   ]
  },
  {
   "cell_type": "code",
   "execution_count": null,
   "metadata": {
    "collapsed": true
   },
   "outputs": [],
   "source": []
  },
  {
   "cell_type": "code",
   "execution_count": null,
   "metadata": {
    "collapsed": true
   },
   "outputs": [],
   "source": []
  }
 ],
 "metadata": {
  "kernelspec": {
   "display_name": "Python 3",
   "language": "python",
   "name": "python3"
  },
  "language_info": {
   "codemirror_mode": {
    "name": "ipython",
    "version": 3
   },
   "file_extension": ".py",
   "mimetype": "text/x-python",
   "name": "python",
   "nbconvert_exporter": "python",
   "pygments_lexer": "ipython3",
   "version": "3.4.3"
  }
 },
 "nbformat": 4,
 "nbformat_minor": 0
}
